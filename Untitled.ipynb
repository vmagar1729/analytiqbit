{
 "cells": [
  {
   "cell_type": "code",
   "execution_count": 1,
   "id": "8c7effee-9ff3-4d21-bb91-ef3797bdffa0",
   "metadata": {},
   "outputs": [],
   "source": [
    "import pandas as pd\n",
    "import numpy as np\n",
    "from sklearn.metrics import precision_recall_curve"
   ]
  },
  {
   "cell_type": "code",
   "execution_count": 8,
   "id": "ca11e057-fb88-47b6-bad3-60065aa47505",
   "metadata": {},
   "outputs": [],
   "source": [
    "df = pd.read_csv(\"./data/data.csv\")"
   ]
  },
  {
   "cell_type": "code",
   "execution_count": 11,
   "id": "9c773937-c7b6-4422-9e92-0d3e5dd822a7",
   "metadata": {},
   "outputs": [
    {
     "name": "stdout",
     "output_type": "stream",
     "text": [
      "<class 'pandas.core.frame.DataFrame'>\n",
      "RangeIndex: 5935 entries, 0 to 5934\n",
      "Data columns (total 13 columns):\n",
      " #   Column                     Non-Null Count  Dtype  \n",
      "---  ------                     --------------  -----  \n",
      " 0   Unnamed: 0                 5935 non-null   int64  \n",
      " 1   loan_amount_approved       5935 non-null   float64\n",
      " 2   mortgage_amount_due        5935 non-null   float64\n",
      " 3   property_current_value     5935 non-null   float64\n",
      " 4   loan_request_reason        5935 non-null   float64\n",
      " 5   applicant_job_type         5935 non-null   float64\n",
      " 6   years_at_present_job       5935 non-null   float64\n",
      " 7   major_derogatory_reports   5935 non-null   float64\n",
      " 8   delinquent_credit_lines    5935 non-null   float64\n",
      " 9   age_of_oldest_credit_line  5935 non-null   float64\n",
      " 10  recent_credit_inquiries    5935 non-null   float64\n",
      " 11  existing_credit_lines      5935 non-null   float64\n",
      " 12  debt_to_income_ratio       5935 non-null   float64\n",
      "dtypes: float64(12), int64(1)\n",
      "memory usage: 602.9 KB\n"
     ]
    }
   ],
   "source": [
    "df.info()"
   ]
  },
  {
   "cell_type": "code",
   "execution_count": null,
   "id": "2bd3bf7e-26da-49c8-b883-e469a227d856",
   "metadata": {},
   "outputs": [],
   "source": []
  }
 ],
 "metadata": {
  "kernelspec": {
   "display_name": "Python 3 (ipykernel)",
   "language": "python",
   "name": "python3"
  },
  "language_info": {
   "codemirror_mode": {
    "name": "ipython",
    "version": 3
   },
   "file_extension": ".py",
   "mimetype": "text/x-python",
   "name": "python",
   "nbconvert_exporter": "python",
   "pygments_lexer": "ipython3",
   "version": "3.11.8"
  }
 },
 "nbformat": 4,
 "nbformat_minor": 5
}
