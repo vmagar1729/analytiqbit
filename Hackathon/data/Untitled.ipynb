{
 "cells": [
  {
   "cell_type": "code",
   "execution_count": 1,
   "id": "8020a122-a1fc-4d41-ad7f-063b0b076ba2",
   "metadata": {
    "execution": {
     "iopub.execute_input": "2025-01-05T17:53:06.787086Z",
     "iopub.status.busy": "2025-01-05T17:53:06.786406Z",
     "iopub.status.idle": "2025-01-05T17:53:07.097487Z",
     "shell.execute_reply": "2025-01-05T17:53:07.097174Z",
     "shell.execute_reply.started": "2025-01-05T17:53:06.787038Z"
    }
   },
   "outputs": [],
   "source": [
    "import pandas as pd"
   ]
  },
  {
   "cell_type": "code",
   "execution_count": 3,
   "id": "1e8274c0-503f-45a7-98ef-95909ed35e23",
   "metadata": {
    "execution": {
     "iopub.execute_input": "2025-01-05T17:54:02.418765Z",
     "iopub.status.busy": "2025-01-05T17:54:02.417882Z",
     "iopub.status.idle": "2025-01-05T17:54:02.435516Z",
     "shell.execute_reply": "2025-01-05T17:54:02.434812Z",
     "shell.execute_reply.started": "2025-01-05T17:54:02.418701Z"
    }
   },
   "outputs": [],
   "source": [
    "final_data = pd.read_csv('customer_pred.csv')"
   ]
  },
  {
   "cell_type": "code",
   "execution_count": 4,
   "id": "d1147986-92ed-4db9-9684-8b659acb354d",
   "metadata": {
    "execution": {
     "iopub.execute_input": "2025-01-05T17:54:33.709965Z",
     "iopub.status.busy": "2025-01-05T17:54:33.708993Z",
     "iopub.status.idle": "2025-01-05T17:54:33.727335Z",
     "shell.execute_reply": "2025-01-05T17:54:33.726380Z",
     "shell.execute_reply.started": "2025-01-05T17:54:33.709922Z"
    }
   },
   "outputs": [
    {
     "data": {
      "text/plain": [
       "Overall_Experience\n",
       "1.0    0.544632\n",
       "0.0    0.455368\n",
       "Name: proportion, dtype: float64"
      ]
     },
     "execution_count": 4,
     "metadata": {},
     "output_type": "execute_result"
    }
   ],
   "source": [
    "final_data['Overall_Experience'].value_counts(normalize=True)"
   ]
  },
  {
   "cell_type": "code",
   "execution_count": null,
   "id": "764a3ad6-63ef-43d7-8460-e23cf0bcb118",
   "metadata": {},
   "outputs": [],
   "source": []
  }
 ],
 "metadata": {
  "kernelspec": {
   "display_name": "Python 3 (ipykernel)",
   "language": "python",
   "name": "python3"
  },
  "language_info": {
   "codemirror_mode": {
    "name": "ipython",
    "version": 3
   },
   "file_extension": ".py",
   "mimetype": "text/x-python",
   "name": "python",
   "nbconvert_exporter": "python",
   "pygments_lexer": "ipython3",
   "version": "3.9.21"
  }
 },
 "nbformat": 4,
 "nbformat_minor": 5
}
