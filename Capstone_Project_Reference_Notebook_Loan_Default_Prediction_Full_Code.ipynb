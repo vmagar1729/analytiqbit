{
 "cells": [
  {
   "cell_type": "markdown",
   "metadata": {
    "id": "1_iHEvciuTB9"
   },
   "source": [
    "# **Loan Default Prediction**"
   ]
  },
  {
   "cell_type": "markdown",
   "metadata": {
    "id": "ZKyzwpUiuTB2"
   },
   "source": [
    "## **Problem Definition**\n",
    "\n",
    "### **The Context:**\n",
    "\n",
    " - Why is this problem important to solve?\n",
    "\n",
    "### **The objective:**\n",
    "\n",
    " - What is the intended goal?\n",
    "\n",
    "### **The key questions:**\n",
    "\n",
    "- What are the key questions that need to be answered?\n",
    "\n",
    "### **The problem formulation**:\n",
    "\n",
    "- What is it that we are trying to solve using data science?"
   ]
  },
  {
   "cell_type": "markdown",
   "metadata": {
    "id": "qEHRGpcdo-KO"
   },
   "source": [
    "## **Data Description:**\n",
    "The Home Equity dataset (HMEQ) contains baseline and loan performance information for 5,960 recent home equity loans. The target (BAD) is a binary variable that indicates whether an applicant has ultimately defaulted or has been severely delinquent. This adverse outcome occurred in 1,189 cases (20 percent). 12 input variables were registered for each applicant.\n",
    "\n",
    "\n",
    "* **BAD:** 1 = Client defaulted on loan, 0 = loan repaid\n",
    "\n",
    "* **LOAN:** Amount of loan approved.\n",
    "\n",
    "* **MORTDUE:** Amount due on the existing mortgage.\n",
    "\n",
    "* **VALUE:** Current value of the property. \n",
    "\n",
    "* **REASON:** Reason for the loan request. (HomeImp = home improvement, DebtCon= debt consolidation which means taking out a new loan to pay off other liabilities and consumer debts) \n",
    "\n",
    "* **JOB:** The type of job that loan applicant has such as manager, self, etc.\n",
    "\n",
    "* **YOJ:** Years at present job.\n",
    "\n",
    "* **DEROG:** Number of major derogatory reports (which indicates a serious delinquency or late payments). \n",
    "\n",
    "* **DELINQ:** Number of delinquent credit lines (a line of credit becomes delinquent when a borrower does not make the minimum required payments 30 to 60 days past the day on which the payments were due). \n",
    "\n",
    "* **CLAGE:** Age of the oldest credit line in months. \n",
    "\n",
    "* **NINQ:** Number of recent credit inquiries. \n",
    "\n",
    "* **CLNO:** Number of existing credit lines.\n",
    "\n",
    "* **DEBTINC:** Debt-to-income ratio (all your monthly debt payments divided by your gross monthly income. This number is one way lenders measure your ability to manage the monthly payments to repay the money you plan to borrow."
   ]
  },
  {
   "cell_type": "markdown",
   "metadata": {
    "id": "DcZcGaZruTB-"
   },
   "source": [
    "## **Import the necessary libraries and Data**"
   ]
  },
  {
   "cell_type": "code",
   "execution_count": 10,
   "metadata": {},
   "outputs": [
    {
     "data": {
      "text/plain": [
       "<module 'myDSlib' from '/Users/home/Documents/GitHub/ADSP_Capstone/analytiqbit/myDSlib.py'>"
      ]
     },
     "execution_count": 10,
     "metadata": {},
     "output_type": "execute_result"
    }
   ],
   "source": [
    "# Importing functions libraray which contains pre defined functions for classification use\n",
    "import importlib\n",
    "import myDSlib\n",
    "importlib.reload(myDSlib)"
   ]
  },
  {
   "cell_type": "code",
   "execution_count": 26,
   "metadata": {},
   "outputs": [],
   "source": [
    "%run myDSlib.py"
   ]
  },
  {
   "cell_type": "code",
   "execution_count": 28,
   "metadata": {},
   "outputs": [],
   "source": [
    "1# Importing Logistic Regression model from scikit-learn for binary classification\n",
    "from sklearn.linear_model import LogisticRegression\n",
    "\n",
    "# Importing Decision Tree Classifier from scikit-learn for classification tasks\n",
    "from sklearn.tree import DecisionTreeClassifier\n",
    "\n",
    "# Importing Random Forest Classifier from scikit-learn for ensemble learning\n",
    "from sklearn.ensemble import RandomForestClassifier\n",
    "\n",
    "# Importing train_test_split function to split the dataset into training and testing sets\n",
    "from sklearn.model_selection import train_test_split"
   ]
  },
  {
   "cell_type": "markdown",
   "metadata": {
    "id": "T9ykJzCRuTCD"
   },
   "source": [
    "## **Data Overview**"
   ]
  },
  {
   "cell_type": "code",
   "execution_count": 32,
   "metadata": {
    "id": "za7znZ1cBZtg"
   },
   "outputs": [],
   "source": [
    "df = pd.read_csv('hmeq.csv')"
   ]
  },
  {
   "cell_type": "markdown",
   "metadata": {
    "id": "DLgLExFVBZtg"
   },
   "source": [
    "- Reading the dataset\n",
    "- Understanding the shape of the dataset\n",
    "- Checking the data types\n",
    "- Checking for missing values\n",
    "- Checking for duplicated values"
   ]
  },
  {
   "cell_type": "code",
   "execution_count": null,
   "metadata": {},
   "outputs": [],
   "source": [
    "df.rename(columns={\n",
    "    'BAD': 'client_defaulted_on_loan',  # 1 = Client defaulted on loan, 0 = loan repaid\n",
    "    'LOAN': 'loan_amount_approved',      # Amount of loan approved\n",
    "    'MORTDUE': 'mortgage_amount_due',    # Amount due on the existing mortgage\n",
    "    'VALUE': 'property_current_value',    # Current value of the property\n",
    "    'REASON': 'loan_request_reason',      # Reason for the loan request\n",
    "    'JOB': 'applicant_job_type',          # Type of job that loan applicant has\n",
    "    'YOJ': 'years_at_present_job',        # Years at present job\n",
    "    'DEROG': 'major_derogatory_reports',  # Number of major derogatory reports\n",
    "    'DELINQ': 'delinquent_credit_lines',  # Number of delinquent credit lines\n",
    "    'CLAGE': 'age_of_oldest_credit_line',  # Age of the oldest credit line in months\n",
    "    'NINQ': 'recent_credit_inquiries',     # Number of recent credit inquiries\n",
    "    'CLNO': 'existing_credit_lines',       # Number of existing credit lines\n",
    "    'DEBTINC': 'debt_to_income_ratio'      # Debt-to-income ratio\n",
    "}, inplace=True)"
   ]
  },
  {
   "cell_type": "markdown",
   "metadata": {
    "id": "rHTODkjLuTCT"
   },
   "source": [
    "## Summary Statistics"
   ]
  },
  {
   "cell_type": "code",
   "execution_count": null,
   "metadata": {},
   "outputs": [],
   "source": []
  },
  {
   "cell_type": "code",
   "execution_count": 37,
   "metadata": {},
   "outputs": [],
   "source": [
    "default = df.copy()"
   ]
  },
  {
   "cell_type": "code",
   "execution_count": 39,
   "metadata": {},
   "outputs": [
    {
     "data": {
      "text/html": [
       "<div>\n",
       "<style scoped>\n",
       "    .dataframe tbody tr th:only-of-type {\n",
       "        vertical-align: middle;\n",
       "    }\n",
       "\n",
       "    .dataframe tbody tr th {\n",
       "        vertical-align: top;\n",
       "    }\n",
       "\n",
       "    .dataframe thead th {\n",
       "        text-align: right;\n",
       "    }\n",
       "</style>\n",
       "<table border=\"1\" class=\"dataframe\">\n",
       "  <thead>\n",
       "    <tr style=\"text-align: right;\">\n",
       "      <th></th>\n",
       "      <th>Column</th>\n",
       "      <th>Non-Null Count</th>\n",
       "      <th>Data Type</th>\n",
       "      <th>Unique Values</th>\n",
       "      <th>Missing Values</th>\n",
       "      <th>Missing Values %</th>\n",
       "    </tr>\n",
       "  </thead>\n",
       "  <tbody>\n",
       "    <tr>\n",
       "      <th>0</th>\n",
       "      <td>client_defaulted_on_loan</td>\n",
       "      <td>5960</td>\n",
       "      <td>int64</td>\n",
       "      <td>2</td>\n",
       "      <td>0</td>\n",
       "      <td>0.00</td>\n",
       "    </tr>\n",
       "    <tr>\n",
       "      <th>1</th>\n",
       "      <td>loan_amount_approved</td>\n",
       "      <td>5960</td>\n",
       "      <td>int64</td>\n",
       "      <td>540</td>\n",
       "      <td>0</td>\n",
       "      <td>0.00</td>\n",
       "    </tr>\n",
       "    <tr>\n",
       "      <th>2</th>\n",
       "      <td>mortgage_amount_due</td>\n",
       "      <td>5442</td>\n",
       "      <td>float64</td>\n",
       "      <td>5053</td>\n",
       "      <td>518</td>\n",
       "      <td>8.69</td>\n",
       "    </tr>\n",
       "    <tr>\n",
       "      <th>3</th>\n",
       "      <td>property_current_value</td>\n",
       "      <td>5848</td>\n",
       "      <td>float64</td>\n",
       "      <td>5381</td>\n",
       "      <td>112</td>\n",
       "      <td>1.88</td>\n",
       "    </tr>\n",
       "    <tr>\n",
       "      <th>4</th>\n",
       "      <td>loan_request_reason</td>\n",
       "      <td>5708</td>\n",
       "      <td>object</td>\n",
       "      <td>2</td>\n",
       "      <td>252</td>\n",
       "      <td>4.23</td>\n",
       "    </tr>\n",
       "    <tr>\n",
       "      <th>5</th>\n",
       "      <td>applicant_job_type</td>\n",
       "      <td>5681</td>\n",
       "      <td>object</td>\n",
       "      <td>6</td>\n",
       "      <td>279</td>\n",
       "      <td>4.68</td>\n",
       "    </tr>\n",
       "    <tr>\n",
       "      <th>6</th>\n",
       "      <td>years_at_present_job</td>\n",
       "      <td>5445</td>\n",
       "      <td>float64</td>\n",
       "      <td>99</td>\n",
       "      <td>515</td>\n",
       "      <td>8.64</td>\n",
       "    </tr>\n",
       "    <tr>\n",
       "      <th>7</th>\n",
       "      <td>major_derogatory_reports</td>\n",
       "      <td>5252</td>\n",
       "      <td>float64</td>\n",
       "      <td>11</td>\n",
       "      <td>708</td>\n",
       "      <td>11.88</td>\n",
       "    </tr>\n",
       "    <tr>\n",
       "      <th>8</th>\n",
       "      <td>delinquent_credit_lines</td>\n",
       "      <td>5380</td>\n",
       "      <td>float64</td>\n",
       "      <td>14</td>\n",
       "      <td>580</td>\n",
       "      <td>9.73</td>\n",
       "    </tr>\n",
       "    <tr>\n",
       "      <th>9</th>\n",
       "      <td>age_of_oldest_credit_line</td>\n",
       "      <td>5652</td>\n",
       "      <td>float64</td>\n",
       "      <td>5314</td>\n",
       "      <td>308</td>\n",
       "      <td>5.17</td>\n",
       "    </tr>\n",
       "    <tr>\n",
       "      <th>10</th>\n",
       "      <td>recent_credit_inquiries</td>\n",
       "      <td>5450</td>\n",
       "      <td>float64</td>\n",
       "      <td>16</td>\n",
       "      <td>510</td>\n",
       "      <td>8.56</td>\n",
       "    </tr>\n",
       "    <tr>\n",
       "      <th>11</th>\n",
       "      <td>existing_credit_lines</td>\n",
       "      <td>5738</td>\n",
       "      <td>float64</td>\n",
       "      <td>62</td>\n",
       "      <td>222</td>\n",
       "      <td>3.72</td>\n",
       "    </tr>\n",
       "    <tr>\n",
       "      <th>12</th>\n",
       "      <td>debt_to_income_ratio</td>\n",
       "      <td>4693</td>\n",
       "      <td>float64</td>\n",
       "      <td>4693</td>\n",
       "      <td>1267</td>\n",
       "      <td>21.26</td>\n",
       "    </tr>\n",
       "  </tbody>\n",
       "</table>\n",
       "</div>"
      ],
      "text/plain": [
       "                       Column  Non-Null Count Data Type  Unique Values  \\\n",
       "0    client_defaulted_on_loan            5960     int64              2   \n",
       "1        loan_amount_approved            5960     int64            540   \n",
       "2         mortgage_amount_due            5442   float64           5053   \n",
       "3      property_current_value            5848   float64           5381   \n",
       "4         loan_request_reason            5708    object              2   \n",
       "5          applicant_job_type            5681    object              6   \n",
       "6        years_at_present_job            5445   float64             99   \n",
       "7    major_derogatory_reports            5252   float64             11   \n",
       "8     delinquent_credit_lines            5380   float64             14   \n",
       "9   age_of_oldest_credit_line            5652   float64           5314   \n",
       "10    recent_credit_inquiries            5450   float64             16   \n",
       "11      existing_credit_lines            5738   float64             62   \n",
       "12       debt_to_income_ratio            4693   float64           4693   \n",
       "\n",
       "    Missing Values  Missing Values %  \n",
       "0                0              0.00  \n",
       "1                0              0.00  \n",
       "2              518              8.69  \n",
       "3              112              1.88  \n",
       "4              252              4.23  \n",
       "5              279              4.68  \n",
       "6              515              8.64  \n",
       "7              708             11.88  \n",
       "8              580              9.73  \n",
       "9              308              5.17  \n",
       "10             510              8.56  \n",
       "11             222              3.72  \n",
       "12            1267             21.26  "
      ]
     },
     "execution_count": 39,
     "metadata": {},
     "output_type": "execute_result"
    }
   ],
   "source": [
    "myDSlib.summarize_dataframe(default)"
   ]
  },
  {
   "cell_type": "markdown",
   "metadata": {},
   "source": [
    "### Observations\n",
    "Dataset contains several missing values. These need to be treated individually.\n",
    "\n",
    "I have used techniques from recommandation systems to impute the missing values **(Reference: \"Applied Missing Data Analysis\" by Craig K. Enders)**. Below is a summary of methods used for imputatation\n",
    "\n",
    "**1. KNN Imputation (Low/Moderate Missingness)**\n",
    "\n",
    "* Columns: MORTDUE, VALUE, REASON, JOB, CLAGE, CLNO\n",
    "* Why: These columns have less than 10% missing values. KNN imputation is effective for low-to-moderate missingness by finding similar rows based on available features and averaging/matching the corresponding feature values.\n",
    "\n",
    "**2. Iterative Imputer (High Missingness)**\n",
    "\n",
    "* Columns: DEBTINC, DEROG, DELINQ, YOJ, NINQ\n",
    "* Why: These columns have higher missing percentages (10–21%). Iterative imputation models each feature as a function of the others, iteratively predicting missing values to best fit the observed data.\n",
    "\n",
    "**3. Encoding for Categorical Data**\n",
    "\n",
    "* Columns: REASON, JOB\n",
    "* Why: These columns contain categorical data. They were encoded using LabelEncoder to convert string values into numeric categories, allowing compatibility with KNN imputer."
   ]
  },
  {
   "cell_type": "code",
   "execution_count": null,
   "metadata": {},
   "outputs": [],
   "source": []
  },
  {
   "cell_type": "code",
   "execution_count": null,
   "metadata": {},
   "outputs": [],
   "source": []
  },
  {
   "cell_type": "code",
   "execution_count": null,
   "metadata": {},
   "outputs": [],
   "source": []
  },
  {
   "cell_type": "markdown",
   "metadata": {
    "id": "g51vGZAGuTCT"
   },
   "source": [
    "- Observations from Summary Statistics"
   ]
  },
  {
   "cell_type": "markdown",
   "metadata": {
    "id": "g51vGZAGuTCT"
   },
   "source": [
    "- Observations from Summary Statistics"
   ]
  },
  {
   "cell_type": "code",
   "execution_count": null,
   "metadata": {
    "id": "2zXcgmBeBZti"
   },
   "outputs": [],
   "source": []
  },
  {
   "cell_type": "markdown",
   "metadata": {
    "id": "3ZcMbNvZuTCW"
   },
   "source": [
    "## **Exploratory Data Analysis (EDA) and Visualization**"
   ]
  },
  {
   "cell_type": "markdown",
   "metadata": {
    "id": "_Td9x7DdBZti"
   },
   "source": [
    "- EDA is an important part of any project involving data.\n",
    "- It is important to investigate and understand the data better before building a model with it.\n",
    "- A few questions have been mentioned below which will help you approach the analysis in the right manner and generate insights from the data.\n",
    "- A thorough analysis of the data, in addition to the questions mentioned below, should be done."
   ]
  },
  {
   "cell_type": "markdown",
   "metadata": {
    "id": "ba_dqV0sBZti"
   },
   "source": [
    "**Leading Questions**:\n",
    "1. What is the range of values for the loan amount variable \"LOAN\"?\n",
    "2. How does the distribution of years at present job \"YOJ\" vary across the dataset?\n",
    "3. How many unique categories are there in the REASON variable?\n",
    "4. What is the most common category in the JOB variable?\n",
    "5. Is there a relationship between the REASON variable and the proportion of applicants who defaulted on their loan?\n",
    "6. Do applicants who default have a significantly different loan amount compared to those who repay their loan?\n",
    "7. Is there a correlation between the value of the property and the loan default rate?\n",
    "8. Do applicants who default have a significantly different mortgage amount compared to those who repay their loan?"
   ]
  },
  {
   "cell_type": "markdown",
   "metadata": {
    "id": "65yxFJFVuTCW"
   },
   "source": [
    "### **Univariate Analysis**\n"
   ]
  },
  {
   "cell_type": "code",
   "execution_count": null,
   "metadata": {
    "id": "2zXcgmBeBZti"
   },
   "outputs": [],
   "source": []
  },
  {
   "cell_type": "markdown",
   "metadata": {
    "id": "jg5IFtbouTCa"
   },
   "source": [
    "### **Bivariate Analysis**"
   ]
  },
  {
   "cell_type": "code",
   "execution_count": null,
   "metadata": {
    "id": "9b60NSTMBZtj"
   },
   "outputs": [],
   "source": []
  },
  {
   "cell_type": "markdown",
   "metadata": {
    "id": "pc9wZJcGuTCm"
   },
   "source": [
    "### **Multivariate Analysis**"
   ]
  },
  {
   "cell_type": "code",
   "execution_count": null,
   "metadata": {
    "id": "nLk0Fgx-BZtj"
   },
   "outputs": [],
   "source": []
  },
  {
   "cell_type": "markdown",
   "metadata": {
    "id": "zEjMlq0quTCp"
   },
   "source": [
    "## Treating Outliers"
   ]
  },
  {
   "cell_type": "code",
   "execution_count": null,
   "metadata": {
    "id": "WTtFHgKTBZtj"
   },
   "outputs": [],
   "source": []
  },
  {
   "cell_type": "markdown",
   "metadata": {
    "id": "U8CEq24hBZtj"
   },
   "source": [
    "## Treating Missing Values"
   ]
  },
  {
   "cell_type": "code",
   "execution_count": null,
   "metadata": {
    "id": "CDYGPOlXBZtk"
   },
   "outputs": [],
   "source": []
  },
  {
   "cell_type": "markdown",
   "metadata": {
    "id": "eG_XM04vuTCs"
   },
   "source": [
    "## **Important Insights from EDA**\n",
    "\n",
    "What are the the most important observations and insights from the data based on the EDA performed?"
   ]
  },
  {
   "cell_type": "code",
   "execution_count": null,
   "metadata": {
    "id": "jkV_0337BZtk"
   },
   "outputs": [],
   "source": []
  },
  {
   "cell_type": "markdown",
   "metadata": {
    "id": "Cdqhtr8yuS-L"
   },
   "source": [
    "## **Model Building - Approach**\n",
    "- Data preparation\n",
    "- Partition the data into train and test set\n",
    "- Build the model\n",
    "- Fit on the train data\n",
    "- Tune the model\n",
    "- Test the model on test set"
   ]
  },
  {
   "cell_type": "markdown",
   "metadata": {
    "id": "2CGW7uh5BZtk"
   },
   "source": [
    "### Logistic Regression"
   ]
  },
  {
   "cell_type": "code",
   "execution_count": null,
   "metadata": {
    "id": "fs0QKb4ABZtk"
   },
   "outputs": [],
   "source": []
  },
  {
   "cell_type": "markdown",
   "metadata": {
    "id": "9oYAeptGBZtk"
   },
   "source": [
    "### Decision Tree"
   ]
  },
  {
   "cell_type": "code",
   "execution_count": null,
   "metadata": {
    "id": "nfvaEVqsBZtk"
   },
   "outputs": [],
   "source": []
  },
  {
   "cell_type": "markdown",
   "metadata": {
    "id": "HdO4E2btpoPD"
   },
   "source": [
    "### **Decision Tree - Hyperparameter Tuning**\n",
    "\n",
    "* Hyperparameter tuning is tricky in the sense that **there is no direct way to calculate how a change in the hyperparameter value will reduce the loss of your model**, so we usually resort to experimentation. We'll use Grid search to perform hyperparameter tuning.\n",
    "* **Grid search is a tuning technique that attempts to compute the optimum values of hyperparameters.** \n",
    "* **It is an exhaustive search** that is performed on the specific parameter values of a model.\n",
    "* The parameters of the estimator/model used to apply these methods are **optimized by cross-validated grid-search** over a parameter grid.\n",
    "\n",
    "**Criterion {“gini”, “entropy”}**\n",
    "\n",
    "The function to measure the quality of a split. Supported criteria are “gini” for the Gini impurity and “entropy” for the information gain.\n",
    "\n",
    "**max_depth** \n",
    "\n",
    "The maximum depth of the tree. If None, then nodes are expanded until all leaves are pure or until all leaves contain less than min_samples_split samples.\n",
    "\n",
    "**min_samples_leaf**\n",
    "\n",
    "The minimum number of samples is required to be at a leaf node. A split point at any depth will only be considered if it leaves at least min_samples_leaf training samples in each of the left and right branches. This may have the effect of smoothing the model, especially in regression.\n",
    "\n",
    "You can learn about more Hyperpapameters on this link and try to tune them. \n",
    "\n",
    "https://scikit-learn.org/stable/modules/generated/sklearn.tree.DecisionTreeClassifier.html\n"
   ]
  },
  {
   "cell_type": "markdown",
   "metadata": {
    "id": "g4x88goTBZtk"
   },
   "source": [
    "### **Building a Random Forest Classifier**\n",
    "\n",
    "**Random Forest is a bagging algorithm where the base models are Decision Trees.** Samples are taken from the training data and on each sample a decision tree makes a prediction. \n",
    "\n",
    "**The results from all the decision trees are combined together and the final prediction is made using voting or averaging.**"
   ]
  },
  {
   "cell_type": "code",
   "execution_count": null,
   "metadata": {
    "id": "64OtDSUSqbcD"
   },
   "outputs": [],
   "source": []
  },
  {
   "cell_type": "markdown",
   "metadata": {
    "id": "HAx1Ooocp72i"
   },
   "source": [
    "### **Random Forest Classifier Hyperparameter Tuning**"
   ]
  },
  {
   "cell_type": "code",
   "execution_count": null,
   "metadata": {
    "id": "9UQIxCZcqJHa"
   },
   "outputs": [],
   "source": []
  },
  {
   "cell_type": "markdown",
   "metadata": {
    "id": "kPywjJo6uS-9"
   },
   "source": [
    "**1. Comparison of various techniques and their relative performance based on chosen Metric (Measure of success):** \n",
    "- How do different techniques perform? Which one is performing relatively better? Is there scope to improve the performance further?"
   ]
  },
  {
   "cell_type": "markdown",
   "metadata": {
    "id": "5mtOvTtEY7sM"
   },
   "source": [
    "**2. Refined insights:** \n",
    "- What are the most meaningful insights relevant to the problem?"
   ]
  },
  {
   "cell_type": "markdown",
   "metadata": {
    "id": "HNJHd0R7Y7sM"
   },
   "source": [
    "**3. Proposal for the final solution design:** \n",
    "- What model do you propose to be adopted? Why is this the best solution to adopt?"
   ]
  }
 ],
 "metadata": {
  "colab": {
   "provenance": []
  },
  "hide_input": false,
  "kernelspec": {
   "display_name": "Python 3 (ipykernel)",
   "language": "python",
   "name": "python3"
  },
  "language_info": {
   "codemirror_mode": {
    "name": "ipython",
    "version": 3
   },
   "file_extension": ".py",
   "mimetype": "text/x-python",
   "name": "python",
   "nbconvert_exporter": "python",
   "pygments_lexer": "ipython3",
   "version": "3.12.7"
  },
  "latex_envs": {
   "LaTeX_envs_menu_present": true,
   "autoclose": false,
   "autocomplete": true,
   "bibliofile": "biblio.bib",
   "cite_by": "apalike",
   "current_citInitial": 1,
   "eqLabelWithNumbers": true,
   "eqNumInitial": 1,
   "hotkeys": {
    "equation": "Ctrl-E",
    "itemize": "Ctrl-I"
   },
   "labels_anchors": false,
   "latex_user_defs": false,
   "report_style_numbering": false,
   "user_envs_cfg": false
  },
  "toc": {
   "base_numbering": 1,
   "nav_menu": {},
   "number_sections": true,
   "sideBar": true,
   "skip_h1_title": false,
   "title_cell": "Table of Contents",
   "title_sidebar": "Contents",
   "toc_cell": false,
   "toc_position": {},
   "toc_section_display": true,
   "toc_window_display": false
  },
  "varInspector": {
   "cols": {
    "lenName": 16,
    "lenType": 16,
    "lenVar": 40
   },
   "kernels_config": {
    "python": {
     "delete_cmd_postfix": "",
     "delete_cmd_prefix": "del ",
     "library": "var_list.py",
     "varRefreshCmd": "print(var_dic_list())"
    },
    "r": {
     "delete_cmd_postfix": ") ",
     "delete_cmd_prefix": "rm(",
     "library": "var_list.r",
     "varRefreshCmd": "cat(var_dic_list()) "
    }
   },
   "types_to_exclude": [
    "module",
    "function",
    "builtin_function_or_method",
    "instance",
    "_Feature"
   ],
   "window_display": false
  }
 },
 "nbformat": 4,
 "nbformat_minor": 4
}
